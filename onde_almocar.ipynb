{
 "cells": [
  {
   "cell_type": "code",
   "execution_count": 11,
   "metadata": {
    "collapsed": true
   },
   "outputs": [],
   "source": [
    "# coding: utf-8\n",
    "import pandas as pd\n",
    "import numpy as np"
   ]
  },
  {
   "cell_type": "code",
   "execution_count": 12,
   "metadata": {
    "collapsed": false
   },
   "outputs": [
    {
     "data": {
      "text/html": [
       "<div>\n",
       "<table border=\"1\" class=\"dataframe\">\n",
       "  <thead>\n",
       "    <tr style=\"text-align: right;\">\n",
       "      <th></th>\n",
       "      <th>distancia</th>\n",
       "      <th>sabor</th>\n",
       "      <th>preco</th>\n",
       "      <th>fila</th>\n",
       "    </tr>\n",
       "    <tr>\n",
       "      <th>restaurante</th>\n",
       "      <th></th>\n",
       "      <th></th>\n",
       "      <th></th>\n",
       "      <th></th>\n",
       "    </tr>\n",
       "  </thead>\n",
       "  <tbody>\n",
       "    <tr>\n",
       "      <th>verdilha</th>\n",
       "      <td>5</td>\n",
       "      <td>2</td>\n",
       "      <td>3</td>\n",
       "      <td>4</td>\n",
       "    </tr>\n",
       "    <tr>\n",
       "      <th>antenas</th>\n",
       "      <td>4</td>\n",
       "      <td>3</td>\n",
       "      <td>2</td>\n",
       "      <td>3</td>\n",
       "    </tr>\n",
       "    <tr>\n",
       "      <th>servidores</th>\n",
       "      <td>3</td>\n",
       "      <td>4</td>\n",
       "      <td>2</td>\n",
       "      <td>3</td>\n",
       "    </tr>\n",
       "    <tr>\n",
       "      <th>ruchello</th>\n",
       "      <td>1</td>\n",
       "      <td>5</td>\n",
       "      <td>1</td>\n",
       "      <td>5</td>\n",
       "    </tr>\n",
       "    <tr>\n",
       "      <th>ru</th>\n",
       "      <td>2</td>\n",
       "      <td>1</td>\n",
       "      <td>8</td>\n",
       "      <td>1</td>\n",
       "    </tr>\n",
       "  </tbody>\n",
       "</table>\n",
       "</div>"
      ],
      "text/plain": [
       "             distancia  sabor  preco  fila\n",
       "restaurante                               \n",
       "verdilha             5      2      3     4\n",
       "antenas              4      3      2     3\n",
       "servidores           3      4      2     3\n",
       "ruchello             1      5      1     5\n",
       "ru                   2      1      8     1"
      ]
     },
     "execution_count": 12,
     "metadata": {},
     "output_type": "execute_result"
    }
   ],
   "source": [
    "# initializes df with some data and columns\n",
    "restaurante = pd.Series(['verdilha', 'antenas', 'servidores', 'ruchello', 'ru'])\n",
    "df = pd.DataFrame(restaurante)\n",
    "df['distancia']=[5,4,3,1,2]\n",
    "df['sabor']=[2,3,4,5,1]\n",
    "df['preco']=[3,2,2,1,8]\n",
    "df['fila']=[4,3,3,5,1]\n",
    "df = df.rename(columns={0:'restaurante'})\n",
    "df = df.set_index('restaurante')\n",
    "df"
   ]
  },
  {
   "cell_type": "code",
   "execution_count": 13,
   "metadata": {
    "collapsed": false
   },
   "outputs": [
    {
     "name": "stdout",
     "output_type": "stream",
     "text": [
      "\n",
      "\n",
      "--- Onde almoçar hoje? Escolha abaixo os critérios e te darei a resposta ;) ---\n",
      "\n",
      "Qual o peso da distância (0-10)? 1\n",
      "Qual o peso do sabor (0-10)?     1\n",
      "Qual o peso do preço (0-10)?     2\n",
      "Qual o peso da fila (0-10)?      1\n"
     ]
    }
   ],
   "source": [
    "# prints a simple message\n",
    "print('\\n\\n--- Onde almoçar hoje? Escolha abaixo os critérios e te darei a resposta ;) ---\\n')\n",
    "\n",
    "# asks user for weights in each criterion\n",
    "p_distancia = int(input('Qual o peso da distância (0-10)? '))\n",
    "p_sabor \t= int(input('Qual o peso do sabor (0-10)?     '))\n",
    "p_preco \t= int(input('Qual o peso do preço (0-10)?     '))\n",
    "p_fila    \t= int(input('Qual o peso da fila (0-10)?      '))\n",
    "\n",
    "pesos = np.array([p_distancia, p_sabor, p_preco, p_fila])"
   ]
  },
  {
   "cell_type": "code",
   "execution_count": 14,
   "metadata": {
    "collapsed": false
   },
   "outputs": [
    {
     "name": "stdout",
     "output_type": "stream",
     "text": [
      "\n",
      "Essas são as sugestões, por ordem de relevância: \n",
      "\n",
      "restaurante\n",
      "ru            20\n",
      "verdilha      17\n",
      "servidores    14\n",
      "antenas       14\n",
      "ruchello      13\n",
      "dtype: int64\n"
     ]
    }
   ],
   "source": [
    "# multiplies evaluations by the weights and prints the resulting sum, sorted\n",
    "df_pesos = df*pesos\n",
    "total = df_pesos.sum(axis=1)\n",
    "total = total.sort_values(ascending=False)\n",
    "\n",
    "print('\\nEssas são as sugestões, por ordem de relevância: \\n')\n",
    "print(total)"
   ]
  },
  {
   "cell_type": "code",
   "execution_count": null,
   "metadata": {
    "collapsed": true
   },
   "outputs": [],
   "source": []
  },
  {
   "cell_type": "code",
   "execution_count": null,
   "metadata": {
    "collapsed": true
   },
   "outputs": [],
   "source": []
  },
  {
   "cell_type": "code",
   "execution_count": null,
   "metadata": {
    "collapsed": true
   },
   "outputs": [],
   "source": []
  },
  {
   "cell_type": "code",
   "execution_count": null,
   "metadata": {
    "collapsed": true
   },
   "outputs": [],
   "source": []
  }
 ],
 "metadata": {
  "kernelspec": {
   "display_name": "Python 3",
   "language": "python",
   "name": "python3"
  },
  "language_info": {
   "codemirror_mode": {
    "name": "ipython",
    "version": 3
   },
   "file_extension": ".py",
   "mimetype": "text/x-python",
   "name": "python",
   "nbconvert_exporter": "python",
   "pygments_lexer": "ipython3",
   "version": "3.5.0"
  }
 },
 "nbformat": 4,
 "nbformat_minor": 0
}
